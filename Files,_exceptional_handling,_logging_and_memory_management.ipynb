{
  "cells": [
    {
      "cell_type": "markdown",
      "metadata": {
        "id": "6X021NVz_wgu"
      },
      "source": [
        "ASSIGNMENT OF Files, exceptional handling, logging and    \n",
        "memory management\n",
        "\n"
      ]
    },
    {
      "cell_type": "markdown",
      "metadata": {
        "id": "mnizatn7AkPH"
      },
      "source": [
        "THEORY QUSTIONS:\n",
        "\n",
        "\n",
        "\n"
      ]
    },
    {
      "cell_type": "markdown",
      "metadata": {
        "id": "BkxOB5dwBVwN"
      },
      "source": [
        "Q-1 What is the difference between interpreted and compiled languages?\n",
        "\n",
        "  ANS-- Compiled Languages\n",
        "\n",
        "*   Definition: The source code is translated all at once into machine code before it is run, using a compiler.\n",
        "\n",
        "*   Execution: After compiling, the program runs directly from the machine code.\n",
        "\n",
        "*   Speed: Typically faster because it's already translated.\n",
        "\n",
        "*   Error Handling: Errors are detected at compile time (before running).\n",
        "\n",
        "* EXAMPLE:C,C++,RUST,GO\n",
        "\n",
        "(2) Interpreted Languages:\n",
        "\n",
        "   * Definition: The source code is executed line-by-line by an interpreter at runtime.\n",
        "\n",
        "   * Execution: Code is translated and run simultaneously.\n",
        "\n",
        "   *  Speed: Typically slower due to on-the-fly interpretation.\n",
        "\n",
        "    \n",
        "   * Error Handling: Errors show up while the code is running.\n",
        "\n",
        "   EXAMPLE: PYTHON,JAVASCRIPT,RUBY,PHP\n",
        "  \n",
        "\n",
        "     \n",
        "      "
      ]
    },
    {
      "cell_type": "markdown",
      "metadata": {
        "id": "JT4NX58sE_Sn"
      },
      "source": [
        "Q-2 What is exception handling in Python?\n",
        "\n",
        "  ans--Exception handling in Python is a mechanism that allows you to gracefully handle errors that occur during the execution of a program, instead of letting the program crash.\n",
        "\n",
        "  EXAMPLE: try:\n",
        "    num = int(input(\"Enter a number: \"))\n",
        "    result = 10 / num\n",
        "except ValueError:\n",
        "    print(\"That was not a number.\")\n",
        "except ZeroDivisionError:\n",
        "    print(\"You can't divide by zero.\")\n",
        "else:\n",
        "    print(f\"Result is {result}\")\n",
        "finally:\n",
        "    print(\"Done.\")\n"
      ]
    },
    {
      "cell_type": "markdown",
      "metadata": {
        "id": "ctmR1RGAHbIF"
      },
      "source": [
        "Q-3 What is the purpose of the finally block in exception handling?"
      ]
    },
    {
      "cell_type": "markdown",
      "metadata": {
        "id": "l2yZ2K2nH57f"
      },
      "source": [
        "ANS--The purpose of the finally block in Python's exception handling is to define code that should always run, regardless of whether an exception was raised or not.\n",
        "\n",
        " POINTS:-\n",
        "   \n",
        "   * It always executes after the try and except blocks.\n",
        "\n",
        "   * It runs even if:\n",
        "    \n",
        "     * An exception was raised and handled\n",
        "\n",
        "     * No exception occurred\n",
        "\n",
        "     * A return, break, or continue was executed"
      ]
    },
    {
      "cell_type": "markdown",
      "metadata": {
        "id": "Ukr9M537IYtw"
      },
      "source": [
        "Q-4  What is logging in Python?\n",
        "\n",
        "  ANS--Logging in Python is the process of recording messages about your program’s execution.\n",
        "\n",
        "   this message can be used for:\n",
        "\n",
        "   * Debugging\n",
        "\n",
        "   * Monitoring\n",
        "\n",
        "   * Auditing\n",
        "\n",
        "   * Error tracking in production environments\n",
        "  \n",
        "  Instead of using print() statements (which are temporary and informal), Python's logging module provides a powerful, flexible way to track what's happening in your application.\n",
        "\n",
        "\n",
        "\n"
      ]
    },
    {
      "cell_type": "markdown",
      "metadata": {
        "id": "S3as61tCJOqF"
      },
      "source": [
        "Q-5 What is the significance of the __del__ method in Python?\n",
        "\n",
        "\n",
        "ANS-- The __del__ method in Python is known as the destructor method. It's called automatically when an object is about to be destroyed — that is, when there are no more references to it and it's being garbage collected.\n",
        "  \n",
        "\n",
        "Purpose of __del__:\n",
        "\n",
        " * To clean up resources (e.g., closing files or network connections) just before an object is destroyed.\n",
        "\n",
        " * Similar to a destructor in C++ or Java, but less predictable in Python.\n",
        "\n",
        "\n",
        "  "
      ]
    },
    {
      "cell_type": "markdown",
      "metadata": {
        "id": "SOHdhvh1Rwus"
      },
      "source": [
        "Q-6  What is the difference between import and from ... import in Python?\n",
        "\n",
        "ANS-- In Python, import and from ... import are both used to bring external code (modules, classes, functions, etc.) into your program, but they behave a bit differently and are used in different situations.\n",
        "\n",
        "\n",
        "IMPORT:-\n",
        "    \n",
        "      * This imports the entire module.\n",
        "       \n",
        "      *  You must prefix the module name when accessing its functions, classes, or variables.\n",
        "\n",
        "\n",
        "FROM...IMPORT:-\n",
        "\n",
        "       * This imports specific parts (functions, classes, variables, etc.) from a module.\n",
        "\n",
        "       * You can use them directly without the module prefix.\n",
        "\n",
        "\n",
        "\n",
        "   \n",
        "\n",
        "  "
      ]
    },
    {
      "cell_type": "markdown",
      "metadata": {
        "id": "Fy0CrqPvTWOA"
      },
      "source": [
        "Q-7 How can you handle multiple exceptions in Python?\n",
        "\n",
        "ANS--In Python, you can handle multiple exceptions in several ways, depending on how you want to respond to different error types.\n",
        "\n",
        "  1. Using a tuple of exceptions in one except block\n",
        "\n",
        "Use this when you want to handle multiple exception types the same way:\n",
        "\n",
        "  EXAMPLE:  some risky operation\n",
        "    x = int(\"abc\")\n",
        "except (ValueError, TypeError):\n",
        "    print(\"A ValueError or TypeError occurred.\")\n",
        "\n",
        "\n",
        "  2.Using multiple except blocks\n",
        "\n",
        " Use this when you want to handle each exception type differently:\n",
        "\n",
        " EXAMPLE:\n",
        "\n",
        " result = 10 / 0\n",
        "except ZeroDivisionError:\n",
        "    print(\"You can't divide by zero!\")\n",
        "except ValueError:\n",
        "    print(\"A ValueError occurred.\")\n",
        "\n",
        "  3. Catching all exceptions\n",
        "\n",
        "  EXAMPLE:\n",
        "       \n",
        "        # risky code\n",
        "    open(\"nonexistent_file.txt\")\n",
        "except Exception as e:\n",
        "    print(f\"An error occurred: {e}\")\n",
        "\n",
        "\n",
        "  4. Using else and finally\n",
        "\n",
        "   . else runs if no exception occurs\n",
        "\n",
        "   . finally runs no matter what, useful for cleanup.\n",
        "\n",
        "   EXAMPLE:\n",
        "        \n",
        "        print(\"Trying something...\")\n",
        "    x = 5 / 1\n",
        "except ZeroDivisionError:\n",
        "    print(\"Division by zero!\")\n",
        "else:\n",
        "    print(\"No errors occurred.\")\n",
        "finally:\n",
        "    print(\"This always runs.\")\n",
        "\n"
      ]
    },
    {
      "cell_type": "markdown",
      "metadata": {
        "id": "60n-KdEUWwpp"
      },
      "source": [
        "Q-8 What is the purpose of the with statement when handling files in Python?\n",
        "\n",
        "  ANS-- The with statement in Python is used to simplify resource management, especially when working with files.\n",
        "\n",
        "\n",
        "Purpose of with when handling files\n",
        "\n",
        "  1. Automatic resource management\n",
        "It automatically opens and then closes the file for you—even if an error occurs inside the block.\n",
        "\n",
        "  2.  Cleaner and safer code\n",
        "       It avoids common bugs like forgetting to close a file, which can lead to memory leaks or file corruption."
      ]
    },
    {
      "cell_type": "markdown",
      "metadata": {
        "id": "Hb1Xg72OXo_4"
      },
      "source": [
        "Q-9 What is the difference between multithreading and multiprocessing?\n",
        "\n",
        " ANS-- The key difference between multithreading and multiprocessing in Python comes down to how they use system resources to achieve parallelism or concurrency.\n",
        "\n",
        "  * Multithreading vs. multiprocessing\n",
        "\n",
        "  | Feature                        | **Multithreading**                                               | **Multiprocessing**                                          |\n",
        "| ------------------------------ | ---------------------------------------------------------------- | ------------------------------------------------------------ |\n",
        "| **Execution Units**            | Multiple **threads** within a single process                     | Multiple **processes**, each with its own Python interpreter |\n",
        "| **Memory**                     | Shared memory (threads share the same address space)             | Separate memory (each process has its own memory space)      |\n",
        "| **Concurrency vs Parallelism** | Good for **I/O-bound** tasks (e.g., file or network operations)  | Good for **CPU-bound** tasks (e.g., computation-heavy work)  |\n",
        "| **Overhead**                   | Lower overhead (lightweight)                                     | Higher overhead (processes are heavier than threads)         |\n",
        "| **Python GIL**                 | Affected by the GIL (only one thread runs Python code at a time) | Not affected by GIL—each process has its own interpreter     |\n",
        "| **Stability**                  | If one thread crashes, it can crash the whole process            | Crashes are isolated to the process                          |\n",
        "| **Communication**              | Easier via shared memory or queues                               | Requires inter-process communication (IPC) like Pipes/Queues |\n"
      ]
    },
    {
      "cell_type": "markdown",
      "metadata": {
        "id": "227r7bdPYOdh"
      },
      "source": [
        "Q-10 What are the advantages of using logging in a program?\n",
        "\n",
        "  ANS-- Using logging in a program provides a structured and powerful way to track the behavior of your code during development, testing, and production. It's far superior to using simple print() statements.\n",
        "\n",
        "  Advantages of using logging in a program\n",
        "\n",
        "  * logs record the flow of your program and errors.\n",
        "\n",
        "  * you can review logs after a crash or bug without reproducing the issue.\n",
        "\n",
        "  * you can see what the program was doing at any point in time.\n",
        "\n",
        "  * useful for understanding user activity, system events,or performance issues.\n",
        "\n",
        "  * choose log levles( debug,info,warning,error\n",
        "\n",
        "  * easils disable or redirect output without changing your code logic."
      ]
    },
    {
      "cell_type": "markdown",
      "metadata": {
        "id": "y4Xt2YrmUtr3"
      },
      "source": [
        "Q-11  What is memory management in Python?\n",
        "\n",
        "  ANS-- Memory management in Python refers to the way Python handles the allocation and deallocation of memory for variables, objects, and data structures during the execution of a program. Python’s memory management system is designed to make memory handling automatic and efficient, so developers don’t need to worry about allocating or freeing memory manually (like in languages such as C or C++).\n",
        "  \n",
        " 1. Automatic Memory Management\n",
        "\n",
        "    * Reference Counting:\n",
        "      \n",
        "      Every object in Python has a reference count, which tracks how many references point to that object. When the count drops to zero (i.e., no references exist), Python automatically deallocates the memory.\n",
        "    \n",
        "    * Garbage Collection:\n",
        "\n",
        "      Python also includes a garbage collector to detect and clean up circular references (e.g., two objects that reference each other but are not used anywhere else). This is handled by Python’s gc module.\n",
        "\n",
        "  \n",
        "  2 Private Heap Space:\n",
        "\n",
        "   * All Python objects and data structures are stored in a private heap, which is managed by the Python memory manager.\n",
        "\n",
        "   * Developers don't have direct access to this heap.  \n",
        "\n",
        "  \n",
        "  3. Memory Pools:\n",
        "\n",
        "   * Python uses an internal memory allocator called pymalloc, which is optimized for small objects.\n",
        "\n",
        "   * This reduces the overhead of frequent allocation/deallocation.\n",
        "\n",
        "  4 Dynamic Typing:\n",
        "\n",
        "    * Python objects are dynamically typed, meaning memory is allocated at runtime based on the object type and size."
      ]
    },
    {
      "cell_type": "markdown",
      "metadata": {
        "id": "XEYnHgRoXSao"
      },
      "source": [
        "Q 12  What are the basic steps involved in exception handling in Python?\n",
        "\n",
        "  ans-- Exception handling in Python is a structured way to respond to errors or unexpected conditions during program execution without crashing the program.\n",
        "\n",
        "  basic step:\n",
        "\n",
        "    1. Try Block\n",
        "\n",
        "     * Wrap the code that might raise an exception in a try block.\n",
        "\n",
        "     * This is where Python tries to execute the code.\n",
        "\n",
        "    2. Except Block\n",
        "\n",
        "     * If an error occurs in the try block, control jumps to the matching except block.\n",
        "\n",
        "     * You can handle specific exceptions or use a general except.\n",
        "\n",
        "    \n",
        "    3. Else Block (else):\n",
        "\n",
        "     * Runs only if no exception was raised in the try block.\n",
        "\n",
        "     * Good for code that should run only if everything went well.\n",
        "\n",
        "    4. Finally Block:\n",
        "\n",
        "    * This block runs no matter what — whether an exception occurred or not\n",
        "\n",
        "    * Use it for cleanup tasks like closing files or releasing resources.\n",
        "\n",
        "    \n"
      ]
    },
    {
      "cell_type": "markdown",
      "metadata": {
        "id": "oyXcfQJUZBFn"
      },
      "source": [
        "Q-13 Why is memory management important in Python?\n",
        "\n",
        " ANS-- Memory management is important in Python because it directly affects the performance, stability, and scalability of your programs. Even though Python automates memory handling, understanding its importance helps you write more efficient and reliable code.\n",
        "\n",
        "  1. Prevents Memory Leaks:\n",
        "\n",
        "    * A memory leak happens when memory is allocated but never released.\n",
        "\n",
        "    * Python’s garbage collector helps, but poor coding practices (like lingering references or circular references) can still cause leaks.\n",
        "\n",
        "    * Proper memory management ensures that unused memory is freed and available for other tasks.\n",
        "\n",
        "  2. Improves Performance:\n",
        "\n",
        "    * Efficient memory use reduces the load on the garbage collector and improves the speed of execution.\n",
        "\n",
        "    * Reduces lag, slowdowns, and unnecessary memory bloat, especially in large or long-running programs.\n",
        "\n",
        "\n",
        "  3. Ensures Scalability:\n",
        "\n",
        "    * Memory-efficient code can scale to handle more data, more users, or larger workloads.\n",
        "\n",
        "    * Especially important in data science, web servers, or real-time applications.\n",
        "\n",
        "  4. Avoids Crashes and Freezing:\n",
        "\n",
        "    * Poor memory use can exhaust system memory and crash the program or even the host system.\n",
        "\n",
        "    * Managing memory helps maintain stability under heavy load."
      ]
    },
    {
      "cell_type": "markdown",
      "metadata": {
        "id": "uKZdKYz6aiNV"
      },
      "source": [
        "Q-14 What is the role of try and except in exception handling?\n",
        "\n",
        "  ANS-- The try and except blocks in Python are the core components of exception handling. They allow your program to detect and respond to errors (exceptions) during runtime in a controlled way, instead of crashing unexpectedly.\n",
        "\n",
        "  EXAMPLE:-\n",
        "\n",
        "     1. try Block – Detects Potential Errors\n",
        "\n",
        "     * The try block contains code that might raise an exception.\n",
        "\n",
        "     * Python tries to execute the code inside.\n",
        "\n",
        "     * If no error occurs, the program skips the except block and continues normally."
      ]
    },
    {
      "cell_type": "markdown",
      "metadata": {
        "id": "yJ7bGj2vbO5T"
      },
      "source": [
        "Q- 15  How does Python's garbage collection system work?\n",
        "\n",
        "  ANS-- Python’s garbage collection (GC) system is designed to automatically reclaim memory occupied by objects that are no longer in use, helping prevent memory leaks and making memory management easier for developers.\n",
        "\n",
        "   How Python’s Garbage Collection Works:\n",
        "\n",
        "    1. Reference Counting:\n",
        "      \n",
        "      Every Python object keeps track of how many references point to it. This is called a reference count.\n",
        "\n",
        "      * When you create a reference to an object, the count goes up.\n",
        "\n",
        "      * When a reference is deleted (or goes out of scope), the count goes down.\n",
        "\n",
        "      * When the count reaches zero, Python immediately deallocates the object.\n",
        "\n",
        "    2. Garbage Collector (GC) for Circular References:\n",
        "\n",
        "       Python also includes a cyclic garbage collector (in the gc module) that handles circular references — situations where two or more objects refer to each other, making them unreachable but still having a non-zero reference count.\n",
        "\n",
        "     \n",
        "    3. Generational Garbage Collection\n",
        "   \n",
        "      Python uses a generational approach to optimize GC performance.\n",
        "\n",
        "Objects are grouped into three generations (0, 1, 2).\n",
        "\n",
        "Gen 0: New objects\n",
        "\n",
        "Gen 1: Survived one collection\n",
        "\n",
        "Gen 2: Long-lived objects\n",
        "\n",
        "New objects start in Gen 0. If they survive a collection, they move to the next generation.\n",
        "\n",
        "Higher generations are collected less frequently because they're assumed to be long-lived."
      ]
    },
    {
      "cell_type": "markdown",
      "metadata": {
        "id": "39YtwQYYeYou"
      },
      "source": [
        "Q- 16  What is the purpose of the else block in exception handling?\n",
        "\n",
        "  ANS-- Purpose of the else Block in Exception Handling in Python:\n",
        "\n",
        "    * The **else** block in exception handling is used to define code that should run only if no exceptions were raised in the try block.\n",
        "\n",
        "    Why Use else?\n",
        "\n",
        "     * It separates error-handling code from normal logic.\n",
        "\n",
        "     * Improves code readability by making it clear which part of the code runs only when no error occurs.\n",
        "\n",
        "     * Keeps the try block focused on code that might raise exceptions.\n",
        "\n",
        "     EXAMPLE:-\n",
        "          \n",
        "           \n",
        "    number = int(input(\"Enter a number: \"))\n",
        "except ValueError:\n",
        "    print(\"That's not a valid number.\")\n",
        "else:\n",
        "    print(f\"You entered {number}, which is valid.\")\n"
      ]
    },
    {
      "cell_type": "markdown",
      "metadata": {
        "id": "DFB602h_gg0V"
      },
      "source": [
        "Q-17  What are the common logging levels in Python?\n",
        "\n",
        "  ANS-- In Python, the logging module provides a flexible framework for emitting log messages from your code. These messages can help with debugging, monitoring, and error tracking.\n",
        "\n",
        " Common Logging Levels in Python:\n",
        "\n",
        "\n",
        "  | Level Name   | Numeric Value | Description                                                                              |\n",
        "| ------------ | ------------- | ---------------------------------------------------------------------------------------- |\n",
        "| **DEBUG**    | 10            | Detailed information, useful for diagnosing problems during development.                 |\n",
        "| **INFO**     | 20            | General information about program execution (e.g., startup, shutdown).                   |\n",
        "| **WARNING**  | 30            | Indicates something unexpected or potentially problematic, but the program can continue. |\n",
        "| **ERROR**    | 40            | A serious problem that caused a function or operation to fail.                           |\n",
        "| **CRITICAL** | 50            | A very serious error — the program may not be able to continue running.                  |\n"
      ]
    },
    {
      "cell_type": "markdown",
      "metadata": {
        "id": "4SMZ761ThYwg"
      },
      "source": [
        "Q-18 What is the difference between os.fork() and multiprocessing in Python?\n",
        "\n",
        "  ANS-- The difference between os.fork() and the multiprocessing module in Python lies in abstraction level, portability, and ease of use.\n",
        "\n",
        "   1. os.fork():\n",
        "  \n",
        "  | Feature              | Description                                                                                                                                                   |\n",
        "| -------------------- | ------------------------------------------------------------------------------------------------------------------------------------------------------------- |\n",
        "| **Definition**       | `os.fork()` is a **low-level** system call available on Unix-like systems (Linux, macOS) that creates a **child process** by duplicating the current process. |\n",
        "| **Platform Support** | ❌ **Unix-only** (Not available on Windows)                                                                                                                    |\n",
        "| **Returns**          | The child process gets `0`, and the parent gets the child’s PID                                                                                               |\n",
        "| **Use Case**         | Suitable for advanced users who need fine-grained control over process behavior.                                                                              |\n",
        "| **Risk**             | Requires manual handling of inter-process communication (IPC), cleanup, and synchronization.                                                                  |\n",
        "| **Complexity**       | High – you manage most things yourself.                                                                                                                       |\n",
        "\n",
        " 2. multiprocessing:\n",
        "\n",
        "    | Feature              | Description                                                                                                                                                        |\n",
        "| -------------------- | ------------------------------------------------------------------------------------------------------------------------------------------------------------------ |\n",
        "| **Definition**       | `multiprocessing` is a **high-level** Python module that allows you to create processes similar to `threading`, but each process runs in its **own memory space**. |\n",
        "| **Platform Support** |  Cross-platform (works on **Windows**, **Linux**, **macOS**)                                                                                                      |\n",
        "| **Ease of Use**      | Easier to use and more Pythonic than `os.fork()`                                                                                                                   |\n",
        "| **Features**         | Built-in support for:                                                                                                                                              |\n",
        "\n"
      ]
    },
    {
      "cell_type": "markdown",
      "metadata": {
        "id": "f4ImoIPZiLRY"
      },
      "source": [
        "Q-19   What is the importance of closing a file in Python?\n",
        "\n",
        "  ANS-- Closing a file in Python is important for several reasons related to resource management, data integrity, and program stability.\n",
        "\n",
        "  Why Closing a File Matters:\n",
        "\n",
        " 1. Flushes Data to Disk\n",
        "\n",
        "   * When you write to a file, data is often buffered (stored temporarily in memory).\n",
        "\n",
        "   *  Closing the file ensures that all buffered data is written (flushed) to the disk.\n",
        "\n",
        "   *  If you don’t close the file, some data might not be saved properly, leading to data loss or corruption."
      ]
    },
    {
      "cell_type": "markdown",
      "metadata": {
        "id": "I3KFvWDwi4Bz"
      },
      "source": [
        "Q-20  What is the difference between file.read() and file.readline() in Python?\n",
        "\n",
        "  ANS-- The difference between file.read() and file.readline() in Python lies in how much data they read from a file and how they handle newlines.\n",
        "\n",
        "   \n",
        "   DIFFERENCES:\n",
        "\n",
        "    file.read():\n",
        "\n",
        "     * Reads the entire file (or the remaining contents) as a single string.\n",
        "\n",
        "     * You can also pass an optional argument n to read up to n characters.\n",
        "\n",
        "\n",
        "    file.readline()\n",
        "\n",
        "      * Reads just one line from the file at a time.\n",
        "\n",
        "      * Each call returns the next line (including the newline character \\n unless it's the last line).\n",
        "\n",
        "      *  Returns an empty string '' when the end of file (EOF) is reached.\n",
        "\n",
        "  \n",
        "\n",
        "  \n",
        "    "
      ]
    },
    {
      "cell_type": "markdown",
      "metadata": {
        "id": "DKi5iuUIE8RI"
      },
      "source": [
        "Q-21 What is the logging module in Python used for?\n",
        "\n",
        "  ANS-- The logging module in Python is used to track events that happen when some software runs. It's a built-in module designed to provide a flexible framework for emitting log messages from Python programs.\n",
        "\n",
        "\n",
        "  WHAT IT'S USED FOR:-\n",
        "\n",
        "     * Debugging: Track down bugs by recording variable values, execution paths, or errors.\n",
        "\n",
        "     * Monitoring: Keep a record of what your application is doing over time.\n",
        "\n",
        "     * Error tracking: Log warnings or errors that occur during execution.\n",
        "\n",
        "     * Audit trails: Provide a traceable history of actions taken by software (e.g., in security or compliance systems)."
      ]
    },
    {
      "cell_type": "markdown",
      "metadata": {
        "id": "pr0YD0H3GoRK"
      },
      "source": [
        "Q-22 What is the os module in Python used for in file handling?\n",
        "\n",
        "  ANS-- The os module in Python is used to interact with the operating system, and it's especially useful in file handling tasks like navigating the filesystem, creating or deleting files and directories, and retrieving file metadata."
      ]
    },
    {
      "cell_type": "markdown",
      "metadata": {
        "id": "lB_unA5AHf2Z"
      },
      "source": [
        "Q-23  What are the challenges associated with memory management in Python?\n",
        "\n",
        "\n",
        "  ANS-- Memory management in Python is mostly automatic thanks to features like garbage collection and dynamic memory allocation. However, there are still challenges developers need to be aware of to write efficient and bug-free code.\n",
        "\n",
        "  EXAMPLE:-  leaky_list = []\n",
        "def leak():\n",
        "    big_data = [x for x in range(1000000)]\n",
        "    leaky_list.append(big_data)  # never released\n"
      ]
    },
    {
      "cell_type": "markdown",
      "metadata": {
        "id": "faHhMc_aISRh"
      },
      "source": [
        "Q-24 How do you raise an exception manually in Python?\n",
        "\n",
        "  ANS--You can raise an exception manually in Python using the raise statement.\n",
        "\n",
        "   Basic Syntax:\n",
        "\n",
        "     * ExceptionType: Any built-in or custom exception class (e.g., ValueError, TypeError, or your own).\n",
        "\n",
        "     * \"Error message\": Optional message explaining what went wrong.\n",
        "\n",
        "    EXAMPLE:-\n",
        "      \n",
        "       age = -5\n",
        "if age < 0:\n",
        "    raise ValueError(\"Age cannot be negative\")\n"
      ]
    },
    {
      "cell_type": "markdown",
      "metadata": {
        "id": "AJjceSZhJJDZ"
      },
      "source": [
        "Q-25 Why is it important to use multithreading in certain applications?\n",
        "\n",
        "  ANS-- Using multithreading is important in certain applications because it helps improve performance, responsiveness, and resource utilization — especially in scenarios where tasks can run concurrently.\n",
        "\n",
        "1. Improved Responsiveness\n",
        "  \n",
        "   In user-facing applications (like GUIs or servers), multithreading keeps the app responsive.\n",
        "\n",
        "  EXAMPLE:\n",
        "      \n",
        "    * A GUI app can run the interface in one thread and load data in another.\n",
        "\n",
        "    * Without threads, a long-running task might freeze the interface.\n",
        "\n",
        " 2. Concurrency for I/O-Bound Tasks\n",
        "\n",
        "   Python threads are especially useful when your program spends time waiting — e.g., for:\n",
        "\n",
        "   *  File reads/writes\n",
        "\n",
        "   *  Network calls (APIs, downloads)\n",
        "\n",
        "   *  User input\n",
        "\n",
        "  EXAMPLE:\n",
        "     \n",
        "      # Download multiple web pages at once using threads\n",
        "\n",
        "  3. Efficient Resource Sharing\n",
        "\n",
        "\n",
        "    Threads share the same memory space, so sharing data between them is faster than between processes (which need serialization).\n",
        "\n",
        "    * Access shared data structures\n",
        "\n",
        "    * Work collaboratively on in-memory data\n",
        "\n",
        "   4. Parallelism\n",
        "\n",
        "     While Python has a Global Interpreter Lock (GIL) that limits true parallel execution of Python bytecode, multithreading can still provide:\n",
        "\n",
        "    * Parallelism in C extensions (e.g., NumPy, image libraries)\n",
        "\n",
        "    *  Better performance in multi-core environments if you avoid or work around the GIL\n",
        "     \n"
      ]
    },
    {
      "cell_type": "markdown",
      "metadata": {
        "id": "sb2PQOrjTjCr"
      },
      "source": [
        "**PRACTICAL QUSTIONS AND ASNWERS**"
      ]
    },
    {
      "cell_type": "markdown",
      "metadata": {
        "id": "uGV89Wd0Tvwp"
      },
      "source": [
        "Q-1 How can you open a file for writing in Python and write a string to it?"
      ]
    },
    {
      "cell_type": "code",
      "execution_count": null,
      "metadata": {
        "id": "0kSsZpvzVjBo"
      },
      "outputs": [],
      "source": [
        "# Open a file in write mode\n",
        "file = open(\"myfile.txt\", \"w\")\n",
        "\n",
        "# Write a string to the file\n",
        "file.write(\"This is a string written to the file.\")\n",
        "\n",
        "# Close the file\n",
        "file.close()\n"
      ]
    },
    {
      "cell_type": "markdown",
      "metadata": {
        "id": "YFov0GClWNVf"
      },
      "source": [
        "Q-2 Write a Python program to read the contents of a file and print each line."
      ]
    },
    {
      "cell_type": "code",
      "execution_count": null,
      "metadata": {
        "colab": {
          "base_uri": "https://localhost:8080/"
        },
        "id": "0d9tFm5QWdO1",
        "outputId": "56d474da-143c-4c00-efbd-98468006c003"
      },
      "outputs": [
        {
          "name": "stdout",
          "output_type": "stream",
          "text": [
            "This is a string written to the file.\n"
          ]
        }
      ],
      "source": [
        "# Open the file in read mode\n",
        "with open(\"myfile.txt\", \"r\") as file:\n",
        "    # Loop through each line in the file\n",
        "    for line in file:\n",
        "        # Print the line (strip removes extra newline characters)\n",
        "        print(line.strip())\n"
      ]
    },
    {
      "cell_type": "markdown",
      "metadata": {
        "id": "hFJgGcDXWr2A"
      },
      "source": [
        "Q-3  How would you handle a case where the file doesn't exist while trying to open it for reading?"
      ]
    },
    {
      "cell_type": "code",
      "execution_count": null,
      "metadata": {
        "colab": {
          "base_uri": "https://localhost:8080/"
        },
        "id": "LRBlbE4l-g-l",
        "outputId": "a5454bfb-48b2-4f0f-9add-892216a59bee"
      },
      "outputs": [
        {
          "name": "stdout",
          "output_type": "stream",
          "text": [
            "Error: The file does not exist.\n"
          ]
        }
      ],
      "source": [
        "try:\n",
        "    with open('filename.txt', 'r') as file:\n",
        "        content = file.read()\n",
        "        print(content)\n",
        "except FileNotFoundError:\n",
        "    print(\"Error: The file does not exist.\")\n"
      ]
    },
    {
      "cell_type": "markdown",
      "metadata": {
        "id": "dEQ6O0_K-27v"
      },
      "source": [
        "Q-4 Write a Python script that reads from one file and writes its content to another file."
      ]
    },
    {
      "cell_type": "code",
      "execution_count": null,
      "metadata": {
        "colab": {
          "base_uri": "https://localhost:8080/"
        },
        "id": "AyHxdlSoAmLT",
        "outputId": "2f981095-a826-496a-bac6-78318c4fa98e"
      },
      "outputs": [
        {
          "name": "stdout",
          "output_type": "stream",
          "text": [
            "Error: The source file 'myfile.txt' was not found.\n"
          ]
        }
      ],
      "source": [
        "try:\n",
        "    # Open the source file for reading\n",
        "    with open(\"myfile.txt\", \"r\") as source_file:\n",
        "        # Read the content of the source file\n",
        "        content = source_file.read()\n",
        "\n",
        "    # Open the destination file for writing\n",
        "    with open(\"destination_file.txt\", \"w\") as destination_file:\n",
        "        # Write the content to the destination file\n",
        "        destination_file.write(content)\n",
        "\n",
        "    print(\"Content successfully copied from myfile.txt to destination_file.txt\")\n",
        "\n",
        "except FileNotFoundError:\n",
        "    print(\"Error: The source file 'myfile.txt' was not found.\")\n",
        "except Exception as e:\n",
        "    print(f\"An error occurred: {e}\")"
      ]
    },
    {
      "cell_type": "markdown",
      "metadata": {
        "id": "P_aNukAOA5tL"
      },
      "source": [
        "Q-5 How would you catch and handle division by zero error in Python?"
      ]
    },
    {
      "cell_type": "code",
      "execution_count": null,
      "metadata": {
        "colab": {
          "base_uri": "https://localhost:8080/"
        },
        "id": "r9r4I2vnBDE4",
        "outputId": "c6a038ff-23e0-4fe4-ee52-b10d06fce4eb"
      },
      "outputs": [
        {
          "name": "stdout",
          "output_type": "stream",
          "text": [
            "Error: Cannot divide by zero.\n"
          ]
        }
      ],
      "source": [
        "try:\n",
        "    numerator = 10\n",
        "    denominator = 0\n",
        "    result = numerator / denominator\n",
        "    print(\"Result:\", result)\n",
        "except ZeroDivisionError:\n",
        "    print(\"Error: Cannot divide by zero.\")\n"
      ]
    },
    {
      "cell_type": "markdown",
      "metadata": {
        "id": "XoEWJXYnBWpK"
      },
      "source": [
        "Q-6  Write a Python program that logs an error message to a log file when a division by zero exception occurs."
      ]
    },
    {
      "cell_type": "code",
      "execution_count": null,
      "metadata": {
        "colab": {
          "base_uri": "https://localhost:8080/"
        },
        "id": "Op43XO9eBdxa",
        "outputId": "74f106a4-d66e-45cc-a564-57cb64432f9d"
      },
      "outputs": [
        {
          "name": "stderr",
          "output_type": "stream",
          "text": [
            "ERROR:root:Attempted to divide 10 by zero. Exception: division by zero\n"
          ]
        },
        {
          "name": "stdout",
          "output_type": "stream",
          "text": [
            "Error: Division by zero is not allowed.\n"
          ]
        }
      ],
      "source": [
        "import logging\n",
        "\n",
        "# Configure logging\n",
        "logging.basicConfig(\n",
        "    filename='error_log.txt',       # Log file name\n",
        "    level=logging.ERROR,            # Log level\n",
        "    format='%(asctime)s - %(levelname)s - %(message)s'\n",
        ")\n",
        "\n",
        "def divide_numbers(a, b):\n",
        "    try:\n",
        "        result = a / b\n",
        "        print(f\"Result: {result}\")\n",
        "    except ZeroDivisionError as e:\n",
        "        print(\"Error: Division by zero is not allowed.\")\n",
        "        logging.error(\"Attempted to divide %d by zero. Exception: %s\", a, str(e))\n",
        "\n",
        "# Example usage\n",
        "numerator = 10\n",
        "denominator = 0\n",
        "\n",
        "divide_numbers(numerator, denominator)\n"
      ]
    },
    {
      "cell_type": "markdown",
      "metadata": {
        "id": "hhhRAXnpBrjB"
      },
      "source": [
        "Q-7 How do you log information at different levels (INFO, ERROR, WARNING) in Python using the logging module?"
      ]
    },
    {
      "cell_type": "code",
      "execution_count": null,
      "metadata": {
        "colab": {
          "base_uri": "https://localhost:8080/"
        },
        "id": "Kb45vEnABy-q",
        "outputId": "b6ab7815-24a7-4fd2-a1f6-41f7bf2058f8"
      },
      "outputs": [
        {
          "name": "stderr",
          "output_type": "stream",
          "text": [
            "WARNING:root:This is a WARNING message.\n",
            "ERROR:root:This is an ERROR message.\n",
            "CRITICAL:root:This is a CRITICAL message.\n"
          ]
        }
      ],
      "source": [
        "import logging\n",
        "\n",
        "# Configure logging\n",
        "logging.basicConfig(\n",
        "    filename='app.log',             # Log file name\n",
        "    level=logging.DEBUG,            # Minimum level to capture\n",
        "    format='%(asctime)s - %(levelname)s - %(message)s'\n",
        ")\n",
        "\n",
        "# Log messages at different levels\n",
        "logging.debug(\"This is a DEBUG message.\")\n",
        "logging.info(\"This is an INFO message.\")\n",
        "logging.warning(\"This is a WARNING message.\")\n",
        "logging.error(\"This is an ERROR message.\")\n",
        "logging.critical(\"This is a CRITICAL message.\")\n"
      ]
    },
    {
      "cell_type": "markdown",
      "metadata": {
        "id": "FTiOQxPICEaF"
      },
      "source": [
        "Q-8 Write a program to handle a file opening error using exception handling."
      ]
    },
    {
      "cell_type": "code",
      "execution_count": null,
      "metadata": {
        "colab": {
          "base_uri": "https://localhost:8080/"
        },
        "id": "oKwOPZWsCJkH",
        "outputId": "b12e257d-4b51-49ec-91f2-8f3eaee64b19"
      },
      "outputs": [
        {
          "name": "stdout",
          "output_type": "stream",
          "text": [
            "Error: The file 'nonexistent_file.txt' was not found.\n"
          ]
        }
      ],
      "source": [
        "def read_file(filename):\n",
        "    try:\n",
        "        with open(filename, 'r') as file:\n",
        "            content = file.read()\n",
        "            print(\"File content:\\n\", content)\n",
        "    except FileNotFoundError:\n",
        "        print(f\"Error: The file '{filename}' was not found.\")\n",
        "    except IOError as e:\n",
        "        print(f\"An I/O error occurred: {e}\")\n",
        "\n",
        "# Example usage\n",
        "file_to_open = 'nonexistent_file.txt'\n",
        "read_file(file_to_open)\n"
      ]
    },
    {
      "cell_type": "markdown",
      "metadata": {
        "id": "SG8J9smGCYDz"
      },
      "source": [
        "Q-9  How can you read a file line by line and store its content in a list in Python."
      ]
    },
    {
      "cell_type": "code",
      "execution_count": null,
      "metadata": {
        "colab": {
          "base_uri": "https://localhost:8080/"
        },
        "id": "uHyo0g-rFXD9",
        "outputId": "58b6c6a4-3102-419d-b580-50001e8c2190"
      },
      "outputs": [
        {
          "name": "stdout",
          "output_type": "stream",
          "text": [
            "Content of 'myfile.txt' as a list:\n",
            "['Initial content.', '', 'This line was appended.']\n",
            "Error: The file 'nonexistent_file_for_list.txt' was not found.\n"
          ]
        }
      ],
      "source": [
        "def read_file_to_list(filename):\n",
        "    lines = []\n",
        "    try:\n",
        "        with open(filename, 'r') as file:\n",
        "            for line in file:\n",
        "                lines.append(line.strip())  # .strip() removes leading/trailing whitespace including newline characters\n",
        "        return lines\n",
        "    except FileNotFoundError:\n",
        "        print(f\"Error: The file '{filename}' was not found.\")\n",
        "        return None\n",
        "    except IOError as e:\n",
        "        print(f\"An I/O error occurred: {e}\")\n",
        "        return None\n",
        "\n",
        "# Example usage: Assuming 'myfile.txt' exists from a previous step\n",
        "file_to_read = 'myfile.txt'\n",
        "file_content_list = read_file_to_list(file_to_read)\n",
        "\n",
        "if file_content_list is not None:\n",
        "    print(f\"Content of '{file_to_read}' as a list:\")\n",
        "    print(file_content_list)\n",
        "\n",
        "# Example with a non-existent file\n",
        "non_existent_file = 'nonexistent_file_for_list.txt'\n",
        "read_file_to_list(non_existent_file)"
      ]
    },
    {
      "cell_type": "markdown",
      "metadata": {
        "id": "Y2eS9naXFaEx"
      },
      "source": [
        "Q-10 How can you append data to an existing file in Python?"
      ]
    },
    {
      "cell_type": "code",
      "execution_count": null,
      "metadata": {
        "colab": {
          "base_uri": "https://localhost:8080/"
        },
        "id": "Q_TQnrCnFo3M",
        "outputId": "fcf2a84e-41c8-4e87-9b0f-85b7ece17932"
      },
      "outputs": [
        {
          "name": "stdout",
          "output_type": "stream",
          "text": [
            "Created or overwrote 'myfile.txt' with initial content.\n",
            "Successfully appended data to 'myfile.txt'.\n",
            "\n",
            "Content of 'myfile.txt' after appending:\n",
            "Initial content.\n",
            "\n",
            "This line was appended.\n"
          ]
        }
      ],
      "source": [
        "def append_to_file(filename, data):\n",
        "    \"\"\"Appends data to an existing file.\"\"\"\n",
        "    try:\n",
        "        with open(filename, 'a') as file:\n",
        "            file.write(data)\n",
        "            print(f\"Successfully appended data to '{filename}'.\")\n",
        "    except IOError as e:\n",
        "        print(f\"An I/O error occurred while appending to '{filename}': {e}\")\n",
        "\n",
        "# Example usage:\n",
        "file_to_append_to = 'myfile.txt'  # Assuming this file exists\n",
        "data_to_append = \"\\nThis line was appended.\"\n",
        "\n",
        "# First, let's create the file if it doesn't exist or ensure it has initial content\n",
        "try:\n",
        "    with open(file_to_append_to, 'w') as file:\n",
        "        file.write(\"Initial content.\\n\")\n",
        "    print(f\"Created or overwrote '{file_to_append_to}' with initial content.\")\n",
        "except IOError as e:\n",
        "    print(f\"An I/O error occurred while creating/overwriting '{file_to_append_to}': {e}\")\n",
        "\n",
        "\n",
        "# Now, append data to the file\n",
        "append_to_file(file_to_append_to, data_to_append)\n",
        "\n",
        "# You can optionally read the file to verify the content\n",
        "def read_file(filename):\n",
        "    try:\n",
        "        with open(filename, 'r') as file:\n",
        "            content = file.read()\n",
        "            print(f\"\\nContent of '{filename}' after appending:\\n{content}\")\n",
        "    except FileNotFoundError:\n",
        "        print(f\"Error: The file '{filename}' was not found for reading.\")\n",
        "    except IOError as e:\n",
        "        print(f\"An I/O error occurred while reading '{filename}': {e}\")\n",
        "\n",
        "read_file(file_to_append_to)"
      ]
    },
    {
      "cell_type": "markdown",
      "metadata": {
        "id": "7MYFN227F9FJ"
      },
      "source": [
        "Q-11  Write a Python program that uses a try-except block to handle an error when attempting to access a\n",
        "dictionary key that doesn't exist."
      ]
    },
    {
      "cell_type": "code",
      "execution_count": null,
      "metadata": {
        "colab": {
          "base_uri": "https://localhost:8080/"
        },
        "id": "-YkX_0XkGZTo",
        "outputId": "710fdef5-4f73-4899-ba77-48072be60e1a"
      },
      "outputs": [
        {
          "name": "stdout",
          "output_type": "stream",
          "text": [
            "Error: The key 'city' does not exist in the dictionary.\n"
          ]
        }
      ],
      "source": [
        "my_dict = {'name': 'Alice', 'age': 25}\n",
        "\n",
        "try:\n",
        "    # Try to access a key that might not exist\n",
        "    print(\"City:\", my_dict['city'])\n",
        "except KeyError:\n",
        "    print(\"Error: The key 'city' does not exist in the dictionary.\")\n"
      ]
    },
    {
      "cell_type": "markdown",
      "metadata": {
        "id": "zTeaPeyOGwBw"
      },
      "source": [
        "Q-12  Write a program that demonstrates using multiple except blocks to handle different types of exceptions."
      ]
    },
    {
      "cell_type": "code",
      "execution_count": null,
      "metadata": {
        "id": "yHit4cCsL0E6"
      },
      "outputs": [],
      "source": [
        "try:\n",
        "  x=int(input(\"enter a number:\"))\n",
        "  print(10/x)\n",
        "\n",
        "except ZeroDivisionError as e:\n",
        "  print(\"error is:\",e)\n",
        "except ValueError as e:\n",
        "  print(\"error is:\",e)"
      ]
    },
    {
      "cell_type": "markdown",
      "metadata": {
        "id": "mM1D7As_L15G"
      },
      "source": [
        "Q-13 How would you check if a file exists before attempting to read it in Python\n"
      ]
    },
    {
      "cell_type": "code",
      "execution_count": null,
      "metadata": {
        "colab": {
          "base_uri": "https://localhost:8080/"
        },
        "id": "QLNCM9Td2RjD",
        "outputId": "409c8ad5-dd06-4160-db05-bc0074ebc9f2"
      },
      "outputs": [
        {
          "name": "stdout",
          "output_type": "stream",
          "text": [
            "File does not exist.\n"
          ]
        }
      ],
      "source": [
        "import os\n",
        "\n",
        "file_path = \"example.txt\"\n",
        "\n",
        "if os.path.exists(file_path):\n",
        "    with open(file_path, 'r') as file:\n",
        "        content = file.read()\n",
        "        print(content)\n",
        "else:\n",
        "    print(\"File does not exist.\")\n"
      ]
    },
    {
      "cell_type": "markdown",
      "metadata": {
        "id": "zco9k92k2gRD"
      },
      "source": [
        "Q-14  Write a program that uses the logging module to log both informational and error messages?\n"
      ]
    },
    {
      "cell_type": "code",
      "execution_count": null,
      "metadata": {
        "colab": {
          "base_uri": "https://localhost:8080/"
        },
        "id": "YX2M72in2vNC",
        "outputId": "d9d47618-165f-4add-f285-d2730413faa9"
      },
      "outputs": [
        {
          "name": "stderr",
          "output_type": "stream",
          "text": [
            "ERROR:root:this is error message\n"
          ]
        }
      ],
      "source": [
        "import logging\n",
        "logging.basicConfig(filename=\"error.log\",level=logging.INFO)\n",
        "\n",
        "logging.info(\"this is informational message\")\n",
        "logging.error(\"this is error message\")\n",
        "\n",
        "logging.shutdown()"
      ]
    },
    {
      "cell_type": "markdown",
      "metadata": {
        "id": "GTXfAL8a23OH"
      },
      "source": [
        "Q-15 Write a Python program that prints the content of a file and handles the case when the file is empty."
      ]
    },
    {
      "cell_type": "code",
      "execution_count": null,
      "metadata": {
        "colab": {
          "base_uri": "https://localhost:8080/"
        },
        "id": "Tu3LGjs63BSa",
        "outputId": "b9da28dd-0077-4016-f060-cf69b1a9960d"
      },
      "outputs": [
        {
          "name": "stdout",
          "output_type": "stream",
          "text": [
            "file is empty\n"
          ]
        }
      ],
      "source": [
        "with open(\"empty.txt\",\"w\")as f:\n",
        " f.write(\"\")\n",
        "\n",
        "size = os.path.getsize(\"empty.txt\")\n",
        "\n",
        "if size==0:\n",
        "  print(\"file is empty\")\n",
        "else:\n",
        "  with open(\"empty.txt\",\"r\")as f:\n",
        "    r=f.read()\n",
        "    print(r)"
      ]
    },
    {
      "cell_type": "markdown",
      "metadata": {
        "id": "AmSNbEZu3OE6"
      },
      "source": [
        "Q-16 Demonstrate how to use memory profiling to check the memory usage of a small program?"
      ]
    },
    {
      "cell_type": "code",
      "execution_count": null,
      "metadata": {
        "colab": {
          "base_uri": "https://localhost:8080/"
        },
        "id": "iJSecff5VRRu",
        "outputId": "c1d32570-9a3d-4ac7-f911-eaa0f7c61b89"
      },
      "outputs": [
        {
          "name": "stdout",
          "output_type": "stream",
          "text": [
            "ERROR: Could not find file /tmp/ipython-input-3689903457.py\n"
          ]
        },
        {
          "data": {
            "text/plain": [
              "([1, 1, 1, 1, 1, 1, 1, 1, 1, 1],\n",
              " [2, 2, 2, 2, 2, 2, 2, 2, 2, 2, 2, 2, 2, 2, 2, 2, 2, 2, 2, 2])"
            ]
          },
          "execution_count": 20,
          "metadata": {},
          "output_type": "execute_result"
        }
      ],
      "source": [
        "from memory_profiler import profile\n",
        "\n",
        "@profile\n",
        "def my_function():\n",
        "    a = [1] * 10\n",
        "    b = [2] * 20\n",
        "    return a, b\n",
        "\n",
        "my_function()"
      ]
    },
    {
      "cell_type": "markdown",
      "metadata": {
        "id": "c06VzCiK_ULv"
      },
      "source": [
        "Q-17 Write a Python program to create and write a list of numbers to a file, one number per line"
      ]
    },
    {
      "cell_type": "code",
      "execution_count": null,
      "metadata": {
        "colab": {
          "base_uri": "https://localhost:8080/"
        },
        "id": "B5LOgHIQ_jiu",
        "outputId": "b27e6b97-ba5c-4044-e62d-b717d1b953ad"
      },
      "outputs": [
        {
          "name": "stdout",
          "output_type": "stream",
          "text": [
            "['1']\n",
            "['2']\n",
            "['3']\n",
            "['4']\n",
            "['5']\n",
            "['6']\n"
          ]
        }
      ],
      "source": [
        "data=[1,2,3,4,5,6]\n",
        "import csv\n",
        "\n",
        "with open(\"file_csv.csv\",\"w\")as f:\n",
        "  writer=csv.writer(f)\n",
        "  for num in data:\n",
        "   writer.writerow([num])\n",
        "\n",
        "with open(\"file_csv.csv\",\"r\")as f:\n",
        "  reader=csv.reader(f)\n",
        "  for row in reader:\n",
        "    print(row)"
      ]
    },
    {
      "cell_type": "markdown",
      "metadata": {
        "id": "guD0gB21_r_P"
      },
      "source": [
        "Q-18  How would you implement a basic logging setup that logs to a file with rotation after 1MB?"
      ]
    },
    {
      "cell_type": "code",
      "execution_count": null,
      "metadata": {
        "colab": {
          "base_uri": "https://localhost:8080/"
        },
        "id": "cPFB6dBc_2AZ",
        "outputId": "0bfc3626-ca70-4d97-b1c3-6183a046e967"
      },
      "outputs": [
        {
          "name": "stderr",
          "output_type": "stream",
          "text": [
            "ERROR:root:this is error message\n",
            "WARNING:root:this is last warning\n"
          ]
        }
      ],
      "source": [
        "import logging\n",
        "from logging.handlers import RotatingFileHandler\n",
        "\n",
        "logging.basicConfig(filename=\"test_log.txt\",level=logging.INFO)\n",
        "\n",
        "logging.info(\"this is info message\")\n",
        "logging.error(\"this is error message\")\n",
        "logging.warning(\"this is last warning\")\n",
        "\n",
        "logging.shutdown()"
      ]
    },
    {
      "cell_type": "markdown",
      "metadata": {
        "id": "8Y91vrFNAUzw"
      },
      "source": [
        "Q-19  Write a program that handles both IndexError and KeyError using a try-except block."
      ]
    },
    {
      "cell_type": "code",
      "execution_count": null,
      "metadata": {
        "colab": {
          "base_uri": "https://localhost:8080/"
        },
        "id": "fc2PPA4jAbd7",
        "outputId": "0121afc7-ec98-41fe-980e-8f55e01a1179"
      },
      "outputs": [
        {
          "name": "stdout",
          "output_type": "stream",
          "text": [
            "error is: 'course'\n"
          ]
        }
      ],
      "source": [
        "try:\n",
        "  dic={\"name\":\"suraj\",\"age\":20}\n",
        "  dic[\"course\"]\n",
        "  l1=[1,2,3,4]\n",
        "  l1[5]\n",
        "except (KeyError,IndexError) as e:\n",
        "  print(\"error is:\",e)\n"
      ]
    },
    {
      "cell_type": "markdown",
      "metadata": {
        "id": "wYWpux4IAnNh"
      },
      "source": [
        "Q-20 How would you open a file and read its contents using a context manager in Python?"
      ]
    },
    {
      "cell_type": "code",
      "execution_count": null,
      "metadata": {
        "colab": {
          "base_uri": "https://localhost:8080/"
        },
        "id": "ed884e21",
        "outputId": "f0eee4b0-8b61-47f4-f2ce-acc6c4a4c901"
      },
      "outputs": [
        {
          "name": "stdout",
          "output_type": "stream",
          "text": [
            "Error: The file 'myfile.txt' was not found.\n"
          ]
        }
      ],
      "source": [
        "# Use a context manager (with statement) to open and read a file\n",
        "try:\n",
        "    with open('myfile.txt', 'r') as file:\n",
        "        content = file.read()\n",
        "        print(\"File content:\\n\", content)\n",
        "except FileNotFoundError:\n",
        "    print(\"Error: The file 'myfile.txt' was not found.\")\n",
        "except IOError as e:\n",
        "    print(f\"An I/O error occurred: {e}\")"
      ]
    },
    {
      "cell_type": "markdown",
      "metadata": {
        "id": "RHl1Z8Q4Bbag"
      },
      "source": [
        "Q-21  Write a Python program that reads a file and prints the number of occurrences of a specific word."
      ]
    },
    {
      "cell_type": "code",
      "execution_count": null,
      "metadata": {
        "colab": {
          "base_uri": "https://localhost:8080/"
        },
        "id": "dd086f68",
        "outputId": "f74fb024-1125-4c8b-c3d7-0af2a20fa732"
      },
      "outputs": [
        {
          "name": "stdout",
          "output_type": "stream",
          "text": [
            "Created 'myfile.txt' for demonstration.\n",
            "The word 'the' appears 4 times in 'myfile.txt'.\n"
          ]
        }
      ],
      "source": [
        "import os\n",
        "\n",
        "def count_word_occurrences(filename, word_to_count):\n",
        "    \"\"\"Reads a file and counts the occurrences of a specific word.\"\"\"\n",
        "    count = 0\n",
        "    try:\n",
        "        with open(filename, 'r') as file:\n",
        "            content = file.read()\n",
        "            # Convert to lowercase and split into words for case-insensitive counting\n",
        "            words = content.lower().split()\n",
        "            count = words.count(word_to_count.lower())\n",
        "        return count\n",
        "    except FileNotFoundError:\n",
        "        print(f\"Error: The file '{filename}' was not found.\")\n",
        "        return -1 # Indicate an error\n",
        "    except IOError as e:\n",
        "        print(f\"An I/O error occurred: {e}\")\n",
        "        return -1 # Indicate an error\n",
        "\n",
        "\n",
        "# Example usage:\n",
        "file_to_read = 'myfile.txt'  # Replace with your file name\n",
        "word_to_count = 'the'     # Replace with the word you want to count\n",
        "\n",
        "# Ensure the file exists and has some content for demonstration\n",
        "if not os.path.exists(file_to_read):\n",
        "    try:\n",
        "        with open(file_to_read, 'w') as file:\n",
        "            file.write(\"This is a test file.\\n\")\n",
        "            file.write(\"This file contains the word the multiple times.\\n\")\n",
        "            file.write(\"Let's count the occurrences of the word 'the'.\")\n",
        "        print(f\"Created '{file_to_read}' for demonstration.\")\n",
        "    except IOError as e:\n",
        "        print(f\"Error creating '{file_to_read}': {e}\")\n",
        "\n",
        "\n",
        "occurrences = count_word_occurrences(file_to_read, word_to_count)\n",
        "\n",
        "if occurrences != -1:\n",
        "    print(f\"The word '{word_to_count}' appears {occurrences} times in '{file_to_read}'.\")"
      ]
    },
    {
      "cell_type": "markdown",
      "metadata": {
        "id": "et62yw5sCJ9R"
      },
      "source": [
        "Q-22  How can you check if a file is empty before attempting to read its contents?"
      ]
    },
    {
      "cell_type": "code",
      "execution_count": null,
      "metadata": {
        "colab": {
          "base_uri": "https://localhost:8080/"
        },
        "id": "66Runvx4C7Do",
        "outputId": "3e730b13-55db-48c3-d3d9-f241ab5de118"
      },
      "outputs": [
        {
          "name": "stdout",
          "output_type": "stream",
          "text": [
            "Created an empty test file at 'empty_test_file.txt'\n",
            "'empty_test_file.txt' is empty.\n",
            "'myfile.txt' is NOT empty.\n",
            "Cleaned up 'empty_test_file.txt'\n"
          ]
        }
      ],
      "source": [
        "import os\n",
        "\n",
        "def is_file_empty(filepath):\n",
        "    \"\"\"Checks if a file is empty.\"\"\"\n",
        "    try:\n",
        "        # Check if the file exists first\n",
        "        if not os.path.exists(filepath):\n",
        "            print(f\"Error: File not found at '{filepath}'\")\n",
        "            return None  # Indicate file not found\n",
        "\n",
        "        # Get the file size in bytes\n",
        "        size = os.path.getsize(filepath)\n",
        "\n",
        "        # Return True if size is 0, False otherwise\n",
        "        return size == 0\n",
        "\n",
        "    except OSError as e:\n",
        "        print(f\"Error accessing file '{filepath}': {e}\")\n",
        "        return None # Indicate an error\n",
        "\n",
        "# Example usage:\n",
        "empty_file_path = 'empty_test_file.txt'\n",
        "non_empty_file_path = 'myfile.txt' # Assuming this file has content from previous steps\n",
        "\n",
        "# Create an empty file for testing\n",
        "try:\n",
        "    with open(empty_file_path, 'w') as f:\n",
        "        pass # Create an empty file\n",
        "    print(f\"Created an empty test file at '{empty_file_path}'\")\n",
        "except IOError as e:\n",
        "     print(f\"Error creating empty file: {e}\")\n",
        "\n",
        "\n",
        "# Check the empty file\n",
        "if is_file_empty(empty_file_path):\n",
        "    print(f\"'{empty_file_path}' is empty.\")\n",
        "elif is_file_empty(empty_file_path) is False:\n",
        "     print(f\"'{empty_file_path}' is NOT empty.\")\n",
        "\n",
        "\n",
        "# Check the non-empty file\n",
        "if is_file_empty(non_empty_file_path):\n",
        "    print(f\"'{non_empty_file_path}' is empty.\")\n",
        "elif is_file_empty(non_empty_file_path) is False:\n",
        "     print(f\"'{non_empty_file_path}' is NOT empty.\")\n",
        "\n",
        "# Clean up the empty test file\n",
        "try:\n",
        "    if os.path.exists(empty_file_path):\n",
        "        os.remove(empty_file_path)\n",
        "        print(f\"Cleaned up '{empty_file_path}'\")\n",
        "except OSError as e:\n",
        "    print(f\"Error cleaning up empty file: {e}\")"
      ]
    },
    {
      "cell_type": "markdown",
      "metadata": {
        "id": "zi-RTBpPDIyz"
      },
      "source": [
        "Q-23 Write a Python program that writes to a log file when an error occurs during file handling."
      ]
    },
    {
      "cell_type": "code",
      "execution_count": null,
      "metadata": {
        "id": "IC1V3lzTDRLW"
      },
      "outputs": [],
      "source": [
        "try:\n",
        "    with open(\"data.txt\", \"r\") as file:\n",
        "        c = file.read()\n",
        "        print(c)\n",
        "\n",
        "except Exception as e:\n",
        "    with open(\"error_log.txt\", \"a\") as log_file:\n",
        "        log_file.write(f\"Error: {str(e)}\\n\")\n",
        "\n",
        "# output:\n",
        "# Error: [Errno 2] No such file or directory: 'data.txt'"
      ]
    }
  ],
  "metadata": {
    "colab": {
      "provenance": []
    },
    "kernelspec": {
      "display_name": "Python 3",
      "name": "python3"
    },
    "language_info": {
      "name": "python"
    }
  },
  "nbformat": 4,
  "nbformat_minor": 0
}
